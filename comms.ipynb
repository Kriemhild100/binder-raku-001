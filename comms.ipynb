{
 "cells": [
  {
   "cell_type": "code",
   "execution_count": 1,
   "metadata": {
    "collapsed": true
   },
   "outputs": [],
   "source": [
    "$*JUPYTER.register-comm('counter', -> :$channel, :$data {\n",
    "      # Supply.interval(1).tap: -> $i { $channel.send($i) }\n",
    "      start react whenever Supply.interval(1) -> $i { $channel.send($i) }\n",
    "   }\n",
    ")"
   ]
  },
  {
   "cell_type": "code",
   "execution_count": 6,
   "metadata": {},
   "outputs": [
    {
     "data": {
      "application/javascript": [
       "var comm = Jupyter.notebook.kernel.comm_manager.new_comm('telemetry');\n",
       "var el = $('<div style=\"text-align:center;\">2</div>');\n",
       "this.element.append(el);\n",
       "comm.on_msg(function(msg) {\n",
       "   el.html(msg.content.data);\n",
       "});"
      ]
     },
     "metadata": {},
     "output_type": "display_data"
    }
   ],
   "source": [
    "%% javascript\n",
    "var comm = Jupyter.notebook.kernel.comm_manager.new_comm('telemetry');\n",
    "var el = $('<div style=\"text-align:center;\">2</div>');\n",
    "this.element.append(el);\n",
    "comm.on_msg(function(msg) {\n",
    "   el.html(msg.content.data);\n",
    "});"
   ]
  },
  {
   "cell_type": "code",
   "execution_count": 5,
   "metadata": {
    "collapsed": true
   },
   "outputs": [],
   "source": [
    "use Telemetry;\n",
    "$*JUPYTER.register-comm: 'telemetry', -> :$channel, :$data {\n",
    "      start react whenever Supply.interval(1) -> $i { $channel.send(T) }\n",
    "}"
   ]
  }
 ],
 "metadata": {
  "kernelspec": {
   "display_name": "Perl 6",
   "language": "perl6",
   "name": "perl6"
  },
  "language_info": {
   "file_extension": ".p6",
   "mimetype": "text/plain",
   "name": "perl6",
   "version": "6.c"
  }
 },
 "nbformat": 4,
 "nbformat_minor": 2
}
